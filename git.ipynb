{
 "cells": [
  {
   "cell_type": "markdown",
   "id": "f15ca63f",
   "metadata": {},
   "source": [
    "makes a folder"
   ]
  },
  {
   "cell_type": "code",
   "execution_count": null,
   "id": "ed7c4c2b",
   "metadata": {
    "vscode": {
     "languageId": "plaintext"
    }
   },
   "outputs": [],
   "source": [
    "mkdir git"
   ]
  },
  {
   "cell_type": "markdown",
   "id": "7e4575d7",
   "metadata": {},
   "source": [
    "removes the folder"
   ]
  },
  {
   "cell_type": "code",
   "execution_count": null,
   "id": "ebe9ff71",
   "metadata": {
    "vscode": {
     "languageId": "plaintext"
    }
   },
   "outputs": [],
   "source": [
    "rmdir git"
   ]
  },
  {
   "cell_type": "markdown",
   "id": "64038911",
   "metadata": {},
   "source": [
    "goes into the folder"
   ]
  },
  {
   "cell_type": "code",
   "execution_count": null,
   "id": "40be3478",
   "metadata": {
    "vscode": {
     "languageId": "plaintext"
    }
   },
   "outputs": [],
   "source": [
    "cd git"
   ]
  },
  {
   "cell_type": "markdown",
   "id": "8b07b5c7",
   "metadata": {},
   "source": [
    "goes out"
   ]
  },
  {
   "cell_type": "code",
   "execution_count": null,
   "id": "c0c65a2e",
   "metadata": {
    "vscode": {
     "languageId": "plaintext"
    }
   },
   "outputs": [],
   "source": [
    "cd .."
   ]
  },
  {
   "cell_type": "markdown",
   "id": "9e5eded8",
   "metadata": {},
   "source": [
    "commit git                           inside the folder we want                                 need to use only once per project"
   ]
  },
  {
   "cell_type": "code",
   "execution_count": null,
   "id": "983fe876",
   "metadata": {
    "vscode": {
     "languageId": "plaintext"
    }
   },
   "outputs": [],
   "source": [
    "git init"
   ]
  },
  {
   "cell_type": "markdown",
   "id": "c0f7e1b2",
   "metadata": {},
   "source": [
    "goes in vs code "
   ]
  },
  {
   "cell_type": "code",
   "execution_count": null,
   "id": "b9af4bea",
   "metadata": {
    "vscode": {
     "languageId": "plaintext"
    }
   },
   "outputs": [],
   "source": [
    "code ."
   ]
  },
  {
   "cell_type": "markdown",
   "id": "95d87b03",
   "metadata": {},
   "source": [
    "makes a file in folder"
   ]
  },
  {
   "cell_type": "code",
   "execution_count": null,
   "id": "71a785f9",
   "metadata": {
    "vscode": {
     "languageId": "plaintext"
    }
   },
   "outputs": [],
   "source": [
    "touch index.html"
   ]
  },
  {
   "cell_type": "markdown",
   "id": "ebb6342a",
   "metadata": {},
   "source": [
    "add all to tracked                           (git add fileName)"
   ]
  },
  {
   "cell_type": "code",
   "execution_count": null,
   "id": "95fbf073",
   "metadata": {
    "vscode": {
     "languageId": "plaintext"
    }
   },
   "outputs": [],
   "source": [
    "git add . "
   ]
  },
  {
   "cell_type": "markdown",
   "id": "1a4e4073",
   "metadata": {},
   "source": [
    "commit\n",
    "commiting the changes that you have done to the codes"
   ]
  },
  {
   "cell_type": "code",
   "execution_count": null,
   "id": "23593e0f",
   "metadata": {
    "vscode": {
     "languageId": "plaintext"
    }
   },
   "outputs": [],
   "source": [
    "git commit -m \"details\""
   ]
  },
  {
   "cell_type": "markdown",
   "id": "80dd63e6",
   "metadata": {},
   "source": [
    "name diff ---> logs what has been changed"
   ]
  },
  {
   "cell_type": "markdown",
   "id": "e7e6b52f",
   "metadata": {},
   "source": [
    "cat name ---> shows inside of a file (content)"
   ]
  },
  {
   "cell_type": "markdown",
   "id": "79125237",
   "metadata": {},
   "source": [
    "name commit -a -m \"content\"   --> at the same time  adds and commits"
   ]
  },
  {
   "cell_type": "markdown",
   "id": "772aacda",
   "metadata": {},
   "source": [
    "git restore  fileName ---> REMOVES added things "
   ]
  },
  {
   "cell_type": "markdown",
   "id": "bf641528",
   "metadata": {},
   "source": [
    "git restore --staged  fileName ---> REMOVES added things to staged"
   ]
  },
  {
   "cell_type": "markdown",
   "id": "a3f96477",
   "metadata": {},
   "source": [
    "git commit --amend -m \" \" ---> changes the kholase"
   ]
  },
  {
   "cell_type": "markdown",
   "id": "e5fd635d",
   "metadata": {},
   "source": [
    "git show (batch number)"
   ]
  },
  {
   "cell_type": "markdown",
   "id": "340faec1",
   "metadata": {},
   "source": [
    "git branch {name of new branch}"
   ]
  },
  {
   "cell_type": "markdown",
   "id": "fb094eae",
   "metadata": {},
   "source": [
    "git checkout {name of new branch}"
   ]
  },
  {
   "cell_type": "code",
   "execution_count": null,
   "id": "5a40f965",
   "metadata": {
    "vscode": {
     "languageId": "plaintext"
    }
   },
   "outputs": [],
   "source": [
    "git merge branchname"
   ]
  },
  {
   "cell_type": "markdown",
   "id": "902bc3cb",
   "metadata": {},
   "source": [
    "git branche -d namebranch ---> delete branch"
   ]
  }
 ],
 "metadata": {
  "language_info": {
   "name": "python"
  }
 },
 "nbformat": 4,
 "nbformat_minor": 5
}
